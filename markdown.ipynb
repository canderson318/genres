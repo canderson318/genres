{
  "nbformat": 4,
  "nbformat_minor": 0,
  "metadata": {
    "colab": {
      "provenance": []
    },
    "kernelspec": {
      "name": "python3",
      "display_name": "Python 3"
    },
    "language_info": {
      "name": "python"
    }
  },
  "cells": [
    {
      "cell_type": "markdown",
      "source": [
        "# H1\n",
        "## H2\n",
        "### H3\n",
        "Bold \t**bold text**\n",
        "Italic \t*italicized text*\n",
        "Blockquote \t> blockquote\n",
        "Ordered List \t1. First item\n",
        "2. Second item\n",
        "3. Third item\n",
        "Unordered List \t- First item\n",
        "- Second item\n",
        "- Third item\n",
        "Code \t`code`\n",
        "Horizontal Rule \t---\n",
        "Link \t[title](https://www.example.com)\n",
        "Image \t![alt text](image.jpg)\n"
      ],
      "metadata": {
        "id": "FAvEAWmDieBK"
      }
    },
    {
      "cell_type": "code",
      "source": [],
      "metadata": {
        "colab": {
          "base_uri": "https://localhost:8080/",
          "height": 168
        },
        "id": "6apzJwSN-zSH",
        "outputId": "9e99bb22-6c4a-4829-860e-46362417ace1"
      },
      "execution_count": null,
      "outputs": [
        {
          "output_type": "error",
          "ename": "NameError",
          "evalue": "ignored",
          "traceback": [
            "\u001b[0;31m---------------------------------------------------------------------------\u001b[0m",
            "\u001b[0;31mNameError\u001b[0m                                 Traceback (most recent call last)",
            "\u001b[0;32m<ipython-input-4-dda11dc729a7>\u001b[0m in \u001b[0;36m<module>\u001b[0;34m\u001b[0m\n\u001b[0;32m----> 1\u001b[0;31m \u001b[0mprint\u001b[0m\u001b[0;34m(\u001b[0m\u001b[0mhead\u001b[0m\u001b[0;34m(\u001b[0m\u001b[0;34m'anscombe.json'\u001b[0m\u001b[0;34m)\u001b[0m\u001b[0;34m)\u001b[0m\u001b[0;34m\u001b[0m\u001b[0;34m\u001b[0m\u001b[0m\n\u001b[0m",
            "\u001b[0;31mNameError\u001b[0m: name 'head' is not defined"
          ]
        }
      ]
    },
    {
      "cell_type": "code",
      "source": [],
      "metadata": {
        "id": "Jq8Wihej_rZb"
      },
      "execution_count": null,
      "outputs": []
    }
  ]
}