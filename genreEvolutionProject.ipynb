{
 "cells": [
  {
   "attachments": {},
   "cell_type": "markdown",
   "metadata": {},
   "source": [
    "# Genre evolution \n"
   ]
  },
  {
   "cell_type": "markdown",
   "metadata": {},
   "source": []
  },
  {
   "cell_type": "code",
   "execution_count": 1,
   "metadata": {},
   "outputs": [
    {
     "name": "stdout",
     "output_type": "stream",
     "text": [
      "2\n"
     ]
    }
   ],
   "source": [
    "import requests\n",
    "import json\n",
    "API_KEY = '9422180ec43e1da3be3d0524293664d4'\n",
    "USER_AGENT = 'canderson_318'\n",
    "headers = {\n",
    "    'user-agent': USER_AGENT\n",
    "}\n",
    "\n",
    "payload = {\n",
    "    'api_key': API_KEY,\n",
    "    'method': 'chart.gettopartists',\n",
    "    'format': 'json'\n",
    "}\n",
    "\n",
    "r = requests.get('https://ws.audioscrobbler.com/2.0/', headers=headers, params=payload)\n",
    "r.status_code\n",
    "\n",
    "def lastfm_get(payload):\n",
    "    # define headers and URL\n",
    "    headers = {'user-agent': USER_AGENT}\n",
    "    url = 'https://ws.audioscrobbler.com/2.0/'\n",
    "\n",
    "    # Add API key and format to the payload\n",
    "    payload['api_key'] = API_KEY\n",
    "    payload['format'] = 'json'\n",
    "\n",
    "    response = requests.get(url, headers=headers, params=payload)\n",
    "    return response\n",
    "r = lastfm_get({\n",
    "    'method': 'chart.gettopartists'\n",
    "})\n",
    "\n",
    "r.status_code\n",
    "\n",
    "def jprint(obj):\n",
    "    # create a formatted string of the Python JSON object\n",
    "    text = json.dumps(obj, sort_keys=True, indent=4)\n",
    "    print(text)\n",
    "\n",
    "jprint(r.json())"
   ]
  }
 ],
 "metadata": {
  "kernelspec": {
   "display_name": "Python 3",
   "language": "python",
   "name": "python3"
  },
  "language_info": {
   "codemirror_mode": {
    "name": "ipython",
    "version": 3
   },
   "file_extension": ".py",
   "mimetype": "text/x-python",
   "name": "python",
   "nbconvert_exporter": "python",
   "pygments_lexer": "ipython3",
   "version": "3.10.10"
  },
  "orig_nbformat": 4,
  "vscode": {
   "interpreter": {
    "hash": "6725f70ad2fe140addb6681ad78fdf848ed4bd68831b9fb55c17d627d568fb77"
   }
  }
 },
 "nbformat": 4,
 "nbformat_minor": 2
}
